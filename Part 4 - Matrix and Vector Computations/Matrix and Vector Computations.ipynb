{
 "cells": [
  {
   "cell_type": "markdown",
   "metadata": {},
   "source": [
    "### 13.\n",
    "Read about Broadcasting with Arrays on the chapter Computation on Arrays:\n",
    "Broadcasting from Python Data Science Handbook (J. VandePlas, 2016):\n",
    "Link: https://jakevdp.github.io/PythonDataScienceHandbook/02.05-computationon-arrays-broadcasting.html."
   ]
  },
  {
   "cell_type": "markdown",
   "metadata": {},
   "source": [
    "### 14.\n",
    "Read Rewriting the particle simulator in Numpy on Chapter 2: Fast Array Operations\n",
    "with Numpy and Pandas (pp. 68) from the book G. Lenaro (2017). Python high\n",
    "Performance. Second Edition. UK: Packt Publishing Ltd. Implement the\n",
    "improvements on the particle simulator using NumPy. Show that both\n",
    "implementations scale linearly with particle size, but the runtime in the pure Python\n",
    "version grows much faster than the NumPy version. "
   ]
  },
  {
   "cell_type": "code",
   "execution_count": 7,
   "metadata": {},
   "outputs": [
    {
     "name": "stdout",
     "output_type": "stream",
     "text": [
      "Only python\n",
      "46.77692069999989\n",
      "With numpy\n",
      "1.8440700999999535\n"
     ]
    }
   ],
   "source": [
    "import numpy as np\n",
    "from random import uniform\n",
    "\n",
    "class Particle:\n",
    "    def __init__(self, x, y, velocidad_angular):\n",
    "        self.x = x\n",
    "        self.y = y\n",
    "        self.velocidad_angular = velocidad_angular\n",
    "\n",
    "class ParticleSimulator:\n",
    "\n",
    "    def __init__(self, particles):\n",
    "        self.particles = particles\n",
    "\n",
    "    def evolve_python(self, dt):\n",
    "        timestep = 0.00001\n",
    "        nsteps = int(dt / timestep)\n",
    "        for i in range(nsteps):\n",
    "            for p in self.particles:\n",
    "                norm = (p.x**2 + p.y**2)**0.5\n",
    "                v_x = (-p.y) / norm\n",
    "                v_y = p.x / norm\n",
    "                d_x = timestep * p.velocidad_angular * v_x\n",
    "                d_y = timestep * p.velocidad_angular * v_y\n",
    "                p.x += d_x\n",
    "                p.y += d_y\n",
    "\n",
    "    def evolve_numpy(self, dt):\n",
    "        timestep = 0.00001\n",
    "        nsteps = int(dt / timestep)\n",
    "        r_i = np.array([[p.x, p.y] for p in self.particles])\n",
    "        velocidad_angular_i = np.array([p.velocidad_angular for p in self.particles])\n",
    "        for i in range(nsteps):\n",
    "            norm_i = np.sqrt((r_i ** 2).sum(axis=1))\n",
    "            v_i = r_i[:, [1, 0]] * np.array([-1, 1]) / norm_i[:, np.newaxis]\n",
    "            d_i = timestep * velocidad_angular_i[:, np.newaxis] * v_i\n",
    "            r_i += d_i\n",
    "        for i, p in enumerate(self.particles):\n",
    "            p.x, p.y = r_i[i]\n",
    "\n",
    " \n",
    "def benchmark(npart=1000, method='python'):\n",
    "    particles = [Particle(uniform(-1.0, 1.0), uniform(-1.0, 1.0), uniform(-1.0, 1.0)) for _ in range(npart)]\n",
    "    simulator = ParticleSimulator(particles)\n",
    "    if method == 'python':\n",
    "        simulator.evolve_python(0.1)\n",
    "    elif method == 'numpy':\n",
    "        simulator.evolve_numpy(0.1)\n",
    "\n",
    "if __name__ == \"__main__\":\n",
    "    from timeit import timeit\n",
    "    print(\"Only python\")\n",
    "    print(timeit(\"benchmark(10000, 'python')\", globals=globals(), number=1))\n",
    "    print(\"With numpy\")\n",
    "    print(timeit(\"benchmark(10000, 'numpy')\", globals=globals(), number=1))"
   ]
  },
  {
   "cell_type": "markdown",
   "metadata": {},
   "source": [
    "###  15. \n",
    "Explain how to optain the optimal performance with numexpr. Read the section\n",
    "Reaching optimal performance with numexpr, pp. 72 from the previous reference.\n",
    "Implement it and measure the execution time."
   ]
  },
  {
   "cell_type": "code",
   "execution_count": 8,
   "metadata": {},
   "outputs": [],
   "source": [
    "import numpy as np\n",
    "import numexpr as ne\n",
    "\n",
    "# Generate a large array\n",
    "A = np.random.rand(10000000)"
   ]
  },
  {
   "cell_type": "code",
   "execution_count": 9,
   "metadata": {},
   "outputs": [
    {
     "name": "stdout",
     "output_type": "stream",
     "text": [
      "253 ms ± 21.9 ms per loop (mean ± std. dev. of 7 runs, 1 loop each)\n"
     ]
    }
   ],
   "source": [
    "%%timeit\n",
    "\n",
    "# Perform the operation using NumPy\n",
    "B_numpy = np.sin(A)**2 + np.cos(A)**2"
   ]
  },
  {
   "cell_type": "code",
   "execution_count": 10,
   "metadata": {},
   "outputs": [
    {
     "name": "stdout",
     "output_type": "stream",
     "text": [
      "35.7 ms ± 1.63 ms per loop (mean ± std. dev. of 7 runs, 10 loops each)\n"
     ]
    }
   ],
   "source": [
    "%%timeit\n",
    "# Perform the operation using NumExpr\n",
    "expression = \"sin(A)**2 + cos(A)**2\"\n",
    "B_numexpr = ne.evaluate(expression)\n"
   ]
  }
 ],
 "metadata": {
  "kernelspec": {
   "display_name": "HPC",
   "language": "python",
   "name": "python3"
  },
  "language_info": {
   "codemirror_mode": {
    "name": "ipython",
    "version": 3
   },
   "file_extension": ".py",
   "mimetype": "text/x-python",
   "name": "python",
   "nbconvert_exporter": "python",
   "pygments_lexer": "ipython3",
   "version": "3.11.7"
  }
 },
 "nbformat": 4,
 "nbformat_minor": 2
}
