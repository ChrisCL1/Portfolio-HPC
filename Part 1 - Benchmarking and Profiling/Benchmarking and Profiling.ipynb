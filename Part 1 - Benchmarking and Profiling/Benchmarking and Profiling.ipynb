{
 "cells": [
  {
   "cell_type": "markdown",
   "metadata": {},
   "source": [
    "### 1.\n",
    "Read the sections “Introducing the Julia Set” and “Calculating the Full Julia Set” on \n",
    "Chapter 2. Profiling to Find Bottlenecks from the book: M. Gorelick & I. Ozsvald \n",
    "(2020). High Performance Python. Practical Performant Programming for Humans. \n",
    "Second Edition. United States of America: O’Reilly Media, Inc. Implement the \n",
    "chapter functions (Example 2-1, 2-2, 2-3 and 2-4) on Python in order to calculate the \n",
    "Julia Set. Make the representation for the false gray and pure gray scale.  "
   ]
  },
  {
   "cell_type": "code",
   "execution_count": 4,
   "metadata": {},
   "outputs": [],
   "source": [
    "import time\n",
    "from PIL import Image # Pillow\n",
    "import array"
   ]
  },
  {
   "cell_type": "code",
   "execution_count": 5,
   "metadata": {},
   "outputs": [],
   "source": [
    "# area of space to be rendered\n",
    "x1, x2, y1, y2 = -1.8, 1.8, -1.8, 1.8\n",
    "c_real, c_imag = -0.62772, -.42193"
   ]
  },
  {
   "cell_type": "code",
   "execution_count": 6,
   "metadata": {},
   "outputs": [],
   "source": [
    "def calculate_z_serial_purepython(maxiter, zs, cs):\n",
    "    \"\"\"Calculate list\"\"\"\n",
    "    output = [0] * len(zs)\n",
    "    for i in range(len(zs)):\n",
    "        n = 0\n",
    "        z = zs[i]\n",
    "        c = cs[i]\n",
    "        while abs(z) < 2 and n < maxiter:\n",
    "            z = z * z + c\n",
    "            n += 1\n",
    "        output[i] = n\n",
    "    return output"
   ]
  },
  {
   "cell_type": "code",
   "execution_count": 7,
   "metadata": {},
   "outputs": [],
   "source": [
    "def calc_pure_python(draw_output, desired_width, max_iterations):\n",
    "    \"\"\"Create a list of zs and cs, build Julia set and display using PIL\"\"\"\n",
    "    x_step = (float(x2 - x1) / float(desired_width))\n",
    "    y_step = (float(y1 - y2) / float(desired_width))\n",
    "    x = []\n",
    "    y = []\n",
    "    ycoord = y2\n",
    "    while ycoord > y1:\n",
    "        y.append(ycoord)\n",
    "        ycoord += y_step\n",
    "    xcoord = x1\n",
    "    while xcoord < x2:\n",
    "        x.append(xcoord)\n",
    "        xcoord += x_step\n",
    "    # build a list and the initial condition.\n",
    "    zs = []\n",
    "    cs = []\n",
    "    for ycoord in y:\n",
    "        for xcoord in x:\n",
    "            zs.append(complex(xcoord, ycoord))\n",
    "            cs.append(complex(c_real, c_imag))\n",
    "\n",
    "    print(\"Length of x:\", len(x))\n",
    "    print(\"Total elements:\", len(zs))\n",
    "    start_time = time.time()\n",
    "    output = calculate_z_serial_purepython(max_iterations, zs, cs)\n",
    "    end_time = time.time()\n",
    "    secs = end_time - start_time\n",
    "    print(calculate_z_serial_purepython.__name__ + \" took\", secs, \"seconds\")\n",
    "\n",
    "    # 1000^2 grid with 300 iterations\n",
    "    assert sum(output) == 33219980"
   ]
  },
  {
   "cell_type": "code",
   "execution_count": 8,
   "metadata": {},
   "outputs": [
    {
     "name": "stdout",
     "output_type": "stream",
     "text": [
      "Length of x: 1000\n",
      "Total elements: 1000000\n",
      "calculate_z_serial_purepython took 5.304623126983643 seconds\n"
     ]
    }
   ],
   "source": [
    "if __name__ == \"__main__\":\n",
    "    # Calculate the Julia set \n",
    "    # set draw_output\n",
    "    calc_pure_python(draw_output=False, desired_width=1000, max_iterations=300)"
   ]
  },
  {
   "cell_type": "code",
   "execution_count": 9,
   "metadata": {},
   "outputs": [],
   "source": [
    "# area of complex space to be rendered\n",
    "x1, x2, y1, y2 = -1.8, 1.8, -1.8, 1.8\n",
    "c_real, c_imag = -0.62772, -.42193"
   ]
  },
  {
   "cell_type": "code",
   "execution_count": 10,
   "metadata": {},
   "outputs": [],
   "source": [
    "def show_greyscale(output_raw, width, height, max_iterations):\n",
    "    \"\"\"Convert list to array, show using PIL\"\"\"\n",
    "    # convert scale to [0...255]\n",
    "    max_iterations = float(max(output_raw))\n",
    "    print(max_iterations)\n",
    "    scale_factor = float(max_iterations)\n",
    "    scaled = [int(o / scale_factor * 255) for o in output_raw]\n",
    "    output = array.array('B', scaled)  # array of unsigned ints\n",
    "    # display\n",
    "    im = Image.new(\"L\", (width, width))\n",
    "    # Greyscale\n",
    "    im.frombytes(output.tobytes(), \"raw\", \"L\", 0, -1)\n",
    "    im.show(title=\"Greyscale Julia Set\")"
   ]
  },
  {
   "cell_type": "code",
   "execution_count": 11,
   "metadata": {},
   "outputs": [],
   "source": [
    "def show_false_greyscale(output_raw, width, height, max_iterations):\n",
    "    \"\"\"Convert list to array, show using PIL\"\"\"\n",
    "    # convert scale to [0...255]\n",
    "    assert width * height == len(output_raw)\n",
    "    # normalise to 0-255\n",
    "    max_value = float(max(output_raw))\n",
    "    output_raw_limited = [int(float(o) / max_value * 255) for o in output_raw]\n",
    "    # fancy RGB\n",
    "    output_rgb = (\n",
    "        (o + (256 * o) + (256 ** 2) * o) * 16 for o in output_raw_limited)  # fancier\n",
    "    # convert to bytes\n",
    "    output_rgb = array.array('I', output_rgb)\n",
    "    # display\n",
    "    im = Image.new(\"RGB\", (width, height))\n",
    "    # False colour\n",
    "    im.frombytes(output_rgb.tobytes(), \"raw\", \"RGBX\", 0, -1)\n",
    "    im.show(title=\"False Greyscale Julia Set\")"
   ]
  },
  {
   "cell_type": "code",
   "execution_count": 12,
   "metadata": {},
   "outputs": [],
   "source": [
    "def calculate_z_serial_purepython(maxiter, zs, cs):\n",
    "    \"\"\"Calculate list\"\"\"\n",
    "    output = [0] * len(zs)\n",
    "    for i in range(len(zs)):\n",
    "        n = 0\n",
    "        z = zs[i]\n",
    "        c = cs[i]\n",
    "        while abs(z) < 2 and n < maxiter:\n",
    "            z = z * z + c\n",
    "            n += 1\n",
    "        output[i] = n\n",
    "    return output"
   ]
  },
  {
   "cell_type": "code",
   "execution_count": 13,
   "metadata": {},
   "outputs": [],
   "source": [
    "def calc_pure_python(draw_output, desired_width, max_iterations):\n",
    "    \"\"\"Create a list of zs and cs, build Julia set and display using PIL\"\"\"\n",
    "    x_step = (float(x2 - x1) / float(desired_width))\n",
    "    y_step = (float(y1 - y2) / float(desired_width))\n",
    "    x = []\n",
    "    y = []\n",
    "    ycoord = y2\n",
    "    while ycoord > y1:\n",
    "        y.append(ycoord)\n",
    "        ycoord += y_step\n",
    "    xcoord = x1\n",
    "    while xcoord < x2:\n",
    "        x.append(xcoord)\n",
    "        xcoord += x_step\n",
    "    width = len(x)\n",
    "    height = len(y)\n",
    "    # build a list of co-ordinates and the initial condition \n",
    "    zs = []\n",
    "    cs = []\n",
    "    for ycoord in y:\n",
    "        for xcoord in x:\n",
    "            zs.append(complex(xcoord, ycoord))\n",
    "            cs.append(complex(c_real, c_imag))\n",
    "\n",
    "    print(\"Length of x:\", len(x))\n",
    "    print(\"Total elements:\", len(zs))\n",
    "    start_time = time.time()\n",
    "    output = calculate_z_serial_purepython(max_iterations, zs, cs)\n",
    "    end_time = time.time()\n",
    "    secs = end_time - start_time\n",
    "    print(calculate_z_serial_purepython.__name__ + \" took\", secs, \"seconds\")\n",
    "\n",
    "    # 1000^2 grid with 300 iterations\n",
    "    assert sum(output) == 33219980\n",
    "    \n",
    "    if draw_output:\n",
    "        \n",
    "        show_false_greyscale(output, width, height, max_iterations)\n",
    "        show_greyscale(output, width, height, max_iterations)\n",
    "        # use matplotlib to draw with falsegray and gray"
   ]
  },
  {
   "cell_type": "code",
   "execution_count": 14,
   "metadata": {},
   "outputs": [
    {
     "name": "stdout",
     "output_type": "stream",
     "text": [
      "Length of x: 1000\n",
      "Total elements: 1000000\n",
      "calculate_z_serial_purepython took 7.029254913330078 seconds\n",
      "300.0\n"
     ]
    }
   ],
   "source": [
    "if __name__ == \"__main__\":\n",
    "    # Calculate the Julia set\n",
    "    calc_pure_python(draw_output=True, desired_width=1000, max_iterations=300)"
   ]
  },
  {
   "cell_type": "markdown",
   "metadata": {},
   "source": [
    "### 2.\n",
    "Define a new function, timefn, which takes a function as an argument: the inner \n",
    "function, measure_time, takes *args (a variable number of positional arguments) \n",
    "and **kwargs (a variable number of key/value arguments) and passes them through \n",
    "to fn for execution. Decorate calculate_z_serial_purepython with @timefn to profile \n",
    "it. Implement Example 2-5 and adapt your current source code."
   ]
  },
  {
   "cell_type": "code",
   "execution_count": 15,
   "metadata": {},
   "outputs": [],
   "source": [
    "import time\n",
    "from functools import wraps"
   ]
  },
  {
   "cell_type": "code",
   "execution_count": 16,
   "metadata": {},
   "outputs": [],
   "source": [
    "def timefn(function):\n",
    "    @wraps(function)\n",
    "    def measure_time(*args, **kwargs):\n",
    "        t1 = time.time()\n",
    "        result = function(*args, **kwargs)\n",
    "        t2 = time.time()\n",
    "        total_time = t2 - t1\n",
    "        print(f\"{function.__name__} took {total_time} seconds\")\n",
    "        return result\n",
    "    return measure_time\n",
    "    \n",
    "@timefn\n",
    "def calculate_z_serial_purepython(maxiter, zs, cs):\n",
    "    \"\"\"Executes Julia set calculation\"\"\"\n",
    "    output = [0] * len(zs)\n",
    "    for i in range(len(zs)):\n",
    "        n = 0\n",
    "        z = zs[i]\n",
    "        c = cs[i]\n",
    "        while abs(z) < 2 and n < maxiter:\n",
    "            z = z * z + c\n",
    "            n += 1\n",
    "        output[i] = n\n",
    "    return output"
   ]
  },
  {
   "cell_type": "code",
   "execution_count": 18,
   "metadata": {},
   "outputs": [
    {
     "name": "stdout",
     "output_type": "stream",
     "text": [
      "Length of x: 1000\n",
      "Total elements: 1000000\n",
      "calculate_z_serial_purepython took 5.635149240493774 seconds\n",
      "calculate_z_serial_purepython took 5.635149240493774 seconds\n"
     ]
    }
   ],
   "source": [
    "if __name__ == \"__main__\":\n",
    "     # Compute Julia set with Python only; settings optimized for laptops\n",
    "    calc_pure_python(draw_output=False, desired_width=1000, max_iterations=300)"
   ]
  },
  {
   "cell_type": "markdown",
   "metadata": {},
   "source": [
    "### 3.\n",
    "Use the timeit modeule to get a coarse measurement of the execution speed of the \n",
    "CPU-bound function. Runs 10 loops with 5 repetitions. Show how to do the \n",
    "measurement on the command line and on a Jupyter Notebook. "
   ]
  },
  {
   "cell_type": "code",
   "execution_count": null,
   "metadata": {},
   "outputs": [
    {
     "name": "stdout",
     "output_type": "stream",
     "text": [
      "Length of x: 1000\n",
      "Total elements: 1000000\n",
      "calculate_z_serial_purepython took 6.530345916748047 seconds\n",
      "calculate_z_serial_purepython took 6.530345916748047 seconds\n",
      "Length of x: 1000\n",
      "Total elements: 1000000\n",
      "calculate_z_serial_purepython took 6.49880051612854 seconds\n",
      "calculate_z_serial_purepython took 6.49880051612854 seconds\n",
      "Length of x: 1000\n",
      "Total elements: 1000000\n",
      "calculate_z_serial_purepython took 6.498265027999878 seconds\n",
      "calculate_z_serial_purepython took 6.498265027999878 seconds\n",
      "Length of x: 1000\n",
      "Total elements: 1000000\n",
      "calculate_z_serial_purepython took 6.521870851516724 seconds\n",
      "calculate_z_serial_purepython took 6.521870851516724 seconds\n",
      "Length of x: 1000\n",
      "Total elements: 1000000\n",
      "calculate_z_serial_purepython took 6.5087502002716064 seconds\n",
      "calculate_z_serial_purepython took 6.509751081466675 seconds\n",
      "Length of x: 1000\n",
      "Total elements: 1000000\n",
      "calculate_z_serial_purepython took 6.497542381286621 seconds\n",
      "calculate_z_serial_purepython took 6.497542381286621 seconds\n",
      "Length of x: 1000\n",
      "Total elements: 1000000\n",
      "calculate_z_serial_purepython took 6.552581548690796 seconds\n",
      "calculate_z_serial_purepython took 6.552581548690796 seconds\n",
      "Length of x: 1000\n",
      "Total elements: 1000000\n",
      "calculate_z_serial_purepython took 6.516170978546143 seconds\n",
      "calculate_z_serial_purepython took 6.516170978546143 seconds\n",
      "Length of x: 1000\n",
      "Total elements: 1000000\n",
      "calculate_z_serial_purepython took 6.5395002365112305 seconds\n",
      "calculate_z_serial_purepython took 6.5395002365112305 seconds\n",
      "Length of x: 1000\n",
      "Total elements: 1000000\n",
      "calculate_z_serial_purepython took 6.557053327560425 seconds\n",
      "calculate_z_serial_purepython took 6.557053327560425 seconds\n",
      "Length of x: 1000\n",
      "Total elements: 1000000\n",
      "calculate_z_serial_purepython took 6.566208124160767 seconds\n",
      "calculate_z_serial_purepython took 6.566208124160767 seconds\n",
      "Length of x: 1000\n",
      "Total elements: 1000000\n",
      "calculate_z_serial_purepython took 6.557603597640991 seconds\n",
      "calculate_z_serial_purepython took 6.558619976043701 seconds\n",
      "Length of x: 1000\n",
      "Total elements: 1000000\n",
      "calculate_z_serial_purepython took 6.531496047973633 seconds\n",
      "calculate_z_serial_purepython took 6.531496047973633 seconds\n",
      "Length of x: 1000\n",
      "Total elements: 1000000\n",
      "calculate_z_serial_purepython took 6.5785627365112305 seconds\n",
      "calculate_z_serial_purepython took 6.5785627365112305 seconds\n",
      "Length of x: 1000\n",
      "Total elements: 1000000\n",
      "calculate_z_serial_purepython took 6.534170627593994 seconds\n",
      "calculate_z_serial_purepython took 6.534170627593994 seconds\n",
      "Length of x: 1000\n",
      "Total elements: 1000000\n",
      "calculate_z_serial_purepython took 6.562822580337524 seconds\n",
      "calculate_z_serial_purepython took 6.562822580337524 seconds\n",
      "Length of x: 1000\n",
      "Total elements: 1000000\n",
      "calculate_z_serial_purepython took 6.560441732406616 seconds\n",
      "calculate_z_serial_purepython took 6.561090707778931 seconds\n",
      "Length of x: 1000\n",
      "Total elements: 1000000\n",
      "calculate_z_serial_purepython took 6.544224262237549 seconds\n",
      "calculate_z_serial_purepython took 6.544224262237549 seconds\n",
      "Length of x: 1000\n",
      "Total elements: 1000000\n",
      "calculate_z_serial_purepython took 6.553003549575806 seconds\n",
      "calculate_z_serial_purepython took 6.553003549575806 seconds\n",
      "Length of x: 1000\n",
      "Total elements: 1000000\n",
      "calculate_z_serial_purepython took 6.560511350631714 seconds\n",
      "calculate_z_serial_purepython took 6.560511350631714 seconds\n",
      "Length of x: 1000\n",
      "Total elements: 1000000\n",
      "calculate_z_serial_purepython took 6.563866853713989 seconds\n",
      "calculate_z_serial_purepython took 6.563866853713989 seconds\n",
      "Length of x: 1000\n",
      "Total elements: 1000000\n",
      "calculate_z_serial_purepython took 6.548568964004517 seconds\n",
      "calculate_z_serial_purepython took 6.548568964004517 seconds\n",
      "Length of x: 1000\n",
      "Total elements: 1000000\n",
      "calculate_z_serial_purepython took 6.549011468887329 seconds\n",
      "calculate_z_serial_purepython took 6.549011468887329 seconds\n",
      "Length of x: 1000\n",
      "Total elements: 1000000\n",
      "calculate_z_serial_purepython took 6.579066514968872 seconds\n",
      "calculate_z_serial_purepython took 6.579066514968872 seconds\n",
      "Length of x: 1000\n",
      "Total elements: 1000000\n",
      "calculate_z_serial_purepython took 6.575724840164185 seconds\n",
      "calculate_z_serial_purepython took 6.575724840164185 seconds\n",
      "Length of x: 1000\n",
      "Total elements: 1000000\n",
      "calculate_z_serial_purepython took 6.58682107925415 seconds\n",
      "calculate_z_serial_purepython took 6.58682107925415 seconds\n",
      "Length of x: 1000\n",
      "Total elements: 1000000\n",
      "calculate_z_serial_purepython took 6.553993225097656 seconds\n",
      "calculate_z_serial_purepython took 6.553993225097656 seconds\n",
      "Length of x: 1000\n",
      "Total elements: 1000000\n",
      "calculate_z_serial_purepython took 6.587413787841797 seconds\n",
      "calculate_z_serial_purepython took 6.588409423828125 seconds\n",
      "Length of x: 1000\n",
      "Total elements: 1000000\n",
      "calculate_z_serial_purepython took 6.576157331466675 seconds\n",
      "calculate_z_serial_purepython took 6.576157331466675 seconds\n",
      "Length of x: 1000\n",
      "Total elements: 1000000\n",
      "calculate_z_serial_purepython took 6.603349685668945 seconds\n",
      "calculate_z_serial_purepython took 6.603349685668945 seconds\n",
      "Length of x: 1000\n",
      "Total elements: 1000000\n",
      "calculate_z_serial_purepython took 6.559017658233643 seconds\n",
      "calculate_z_serial_purepython took 6.559017658233643 seconds\n",
      "Length of x: 1000\n",
      "Total elements: 1000000\n",
      "calculate_z_serial_purepython took 6.548386812210083 seconds\n",
      "calculate_z_serial_purepython took 6.548386812210083 seconds\n",
      "Length of x: 1000\n",
      "Total elements: 1000000\n",
      "calculate_z_serial_purepython took 6.52038049697876 seconds\n",
      "calculate_z_serial_purepython took 6.52038049697876 seconds\n",
      "Length of x: 1000\n",
      "Total elements: 1000000\n",
      "calculate_z_serial_purepython took 6.513546943664551 seconds\n",
      "calculate_z_serial_purepython took 6.513546943664551 seconds\n",
      "Length of x: 1000\n",
      "Total elements: 1000000\n",
      "calculate_z_serial_purepython took 6.537646532058716 seconds\n",
      "calculate_z_serial_purepython took 6.537646532058716 seconds\n",
      "Length of x: 1000\n",
      "Total elements: 1000000\n",
      "calculate_z_serial_purepython took 6.5274434089660645 seconds\n",
      "calculate_z_serial_purepython took 6.5274434089660645 seconds\n",
      "Length of x: 1000\n",
      "Total elements: 1000000\n",
      "calculate_z_serial_purepython took 6.549106597900391 seconds\n",
      "calculate_z_serial_purepython took 6.549106597900391 seconds\n",
      "Length of x: 1000\n",
      "Total elements: 1000000\n",
      "calculate_z_serial_purepython took 6.523321866989136 seconds\n",
      "calculate_z_serial_purepython took 6.523321866989136 seconds\n",
      "Length of x: 1000\n",
      "Total elements: 1000000\n",
      "calculate_z_serial_purepython took 6.539483070373535 seconds\n",
      "calculate_z_serial_purepython took 6.539483070373535 seconds\n",
      "Length of x: 1000\n",
      "Total elements: 1000000\n",
      "calculate_z_serial_purepython took 6.531466245651245 seconds\n",
      "calculate_z_serial_purepython took 6.531466245651245 seconds\n",
      "Length of x: 1000\n",
      "Total elements: 1000000\n",
      "calculate_z_serial_purepython took 6.540627717971802 seconds\n",
      "calculate_z_serial_purepython took 6.540627717971802 seconds\n",
      "Length of x: 1000\n",
      "Total elements: 1000000\n",
      "calculate_z_serial_purepython took 6.547982931137085 seconds\n",
      "calculate_z_serial_purepython took 6.547982931137085 seconds\n",
      "Length of x: 1000\n",
      "Total elements: 1000000\n",
      "calculate_z_serial_purepython took 6.543765306472778 seconds\n",
      "calculate_z_serial_purepython took 6.543765306472778 seconds\n",
      "Length of x: 1000\n",
      "Total elements: 1000000\n",
      "calculate_z_serial_purepython took 6.536973237991333 seconds\n",
      "calculate_z_serial_purepython took 6.536973237991333 seconds\n",
      "Length of x: 1000\n",
      "Total elements: 1000000\n",
      "calculate_z_serial_purepython took 6.535207986831665 seconds\n",
      "calculate_z_serial_purepython took 6.535207986831665 seconds\n",
      "Length of x: 1000\n",
      "Total elements: 1000000\n",
      "calculate_z_serial_purepython took 6.575812101364136 seconds\n",
      "calculate_z_serial_purepython took 6.575812101364136 seconds\n",
      "Length of x: 1000\n",
      "Total elements: 1000000\n",
      "calculate_z_serial_purepython took 6.597423315048218 seconds\n",
      "calculate_z_serial_purepython took 6.597423315048218 seconds\n",
      "Length of x: 1000\n",
      "Total elements: 1000000\n",
      "calculate_z_serial_purepython took 6.566000699996948 seconds\n",
      "calculate_z_serial_purepython took 6.566000699996948 seconds\n",
      "Length of x: 1000\n",
      "Total elements: 1000000\n",
      "calculate_z_serial_purepython took 6.538285493850708 seconds\n",
      "calculate_z_serial_purepython took 6.538285493850708 seconds\n",
      "Length of x: 1000\n",
      "Total elements: 1000000\n",
      "calculate_z_serial_purepython took 6.542816638946533 seconds\n",
      "calculate_z_serial_purepython took 6.544131278991699 seconds\n",
      "6.86 s ± 18.6 ms per loop (mean ± std. dev. of 5 runs, 10 loops each)\n"
     ]
    }
   ],
   "source": [
    "%timeit -r 5 -n 10 calc_pure_python(draw_output=False,desired_width=1000, max_iterations=300)"
   ]
  },
  {
   "cell_type": "markdown",
   "metadata": {},
   "source": [
    "### 4.\n",
    "\n",
    "Use the cProfile module to profile the source code (.py). Sort the results by the time \n",
    "spent inside each function. This will give a view into the slowest parts. Analyze the \n",
    "output and make a syntesis of the findings. Show how to use the cProfile module on \n",
    "the command line and on a Jupyter Notebook. "
   ]
  },
  {
   "cell_type": "code",
   "execution_count": null,
   "metadata": {},
   "outputs": [],
   "source": [
    "import cProfile\n",
    "import pstats"
   ]
  },
  {
   "cell_type": "code",
   "execution_count": null,
   "metadata": {},
   "outputs": [
    {
     "name": "stdout",
     "output_type": "stream",
     "text": [
      "Length of x: 1000\n",
      "Total elements: 1000000\n",
      "calculate_z_serial_purepython took 10.878853559494019 seconds\n",
      "calculate_z_serial_purepython took 10.878853559494019 seconds\n",
      "         36222233 function calls in 11.548 seconds\n",
      "\n",
      "   Ordered by: cumulative time\n",
      "\n",
      "   ncalls  tottime  percall  cumtime  percall filename:lineno(function)\n",
      "        2    0.000    0.000   11.548    5.774 c:\\Users\\alber\\OneDrive\\Escritorio\\Files\\adjdajad\\.venv\\lib\\site-packages\\IPython\\core\\interactiveshell.py:3541(run_code)\n",
      "        2    0.000    0.000   11.548    5.774 {built-in method builtins.exec}\n",
      "        1    0.025    0.025   11.548   11.548 C:\\Users\\alber\\AppData\\Local\\Temp\\ipykernel_19648\\3075722868.py:1(<module>)\n",
      "        1    0.499    0.499   11.523   11.523 C:\\Users\\alber\\AppData\\Local\\Temp\\ipykernel_19648\\733580140.py:1(calc_pure_python)\n",
      "        1    0.000    0.000   10.878   10.878 C:\\Users\\alber\\AppData\\Local\\Temp\\ipykernel_19648\\243504150.py:2(measure_time)\n",
      "        1    7.391    7.391   10.878   10.878 C:\\Users\\alber\\AppData\\Local\\Temp\\ipykernel_19648\\243504150.py:12(calculate_z_serial_purepython)\n",
      " 34219980    3.487    0.000    3.487    0.000 {built-in method builtins.abs}\n",
      "  2002000    0.140    0.000    0.140    0.000 {method 'append' of 'list' objects}\n",
      "        1    0.005    0.005    0.005    0.005 {built-in method builtins.sum}\n",
      "        4    0.000    0.000    0.000    0.000 {built-in method builtins.print}\n",
      "       16    0.000    0.000    0.000    0.000 c:\\Users\\alber\\OneDrive\\Escritorio\\Files\\adjdajad\\.venv\\lib\\site-packages\\ipykernel\\iostream.py:655(write)\n",
      "       16    0.000    0.000    0.000    0.000 c:\\Users\\alber\\OneDrive\\Escritorio\\Files\\adjdajad\\.venv\\lib\\site-packages\\ipykernel\\iostream.py:577(_schedule_flush)\n",
      "        2    0.000    0.000    0.000    0.000 c:\\Users\\alber\\OneDrive\\Escritorio\\Files\\adjdajad\\.venv\\lib\\site-packages\\ipykernel\\iostream.py:259(schedule)\n",
      "        2    0.000    0.000    0.000    0.000 c:\\Users\\alber\\OneDrive\\Escritorio\\Files\\adjdajad\\.venv\\lib\\site-packages\\zmq\\sugar\\socket.py:621(send)\n",
      "        2    0.000    0.000    0.000    0.000 C:\\Users\\alber\\AppData\\Local\\Programs\\Python\\Python310\\lib\\codeop.py:117(__call__)\n",
      "        2    0.000    0.000    0.000    0.000 {built-in method builtins.compile}\n",
      "       16    0.000    0.000    0.000    0.000 c:\\Users\\alber\\OneDrive\\Escritorio\\Files\\adjdajad\\.venv\\lib\\site-packages\\ipykernel\\iostream.py:550(_is_master_process)\n",
      "        2    0.000    0.000    0.000    0.000 C:\\Users\\alber\\AppData\\Local\\Programs\\Python\\Python310\\lib\\threading.py:1169(is_alive)\n",
      "       16    0.000    0.000    0.000    0.000 c:\\Users\\alber\\OneDrive\\Escritorio\\Files\\adjdajad\\.venv\\lib\\site-packages\\ipykernel\\iostream.py:505(parent_header)\n",
      "        2    0.000    0.000    0.000    0.000 c:\\Users\\alber\\OneDrive\\Escritorio\\Files\\adjdajad\\.venv\\lib\\site-packages\\traitlets\\traitlets.py:676(__get__)\n",
      "        2    0.000    0.000    0.000    0.000 C:\\Users\\alber\\AppData\\Local\\Programs\\Python\\Python310\\lib\\contextlib.py:279(helper)\n",
      "        2    0.000    0.000    0.000    0.000 C:\\Users\\alber\\AppData\\Local\\Programs\\Python\\Python310\\lib\\threading.py:1102(_wait_for_tstate_lock)\n",
      "        2    0.000    0.000    0.000    0.000 C:\\Users\\alber\\AppData\\Local\\Programs\\Python\\Python310\\lib\\contextlib.py:102(__init__)\n",
      "        4    0.000    0.000    0.000    0.000 {built-in method builtins.next}\n",
      "        2    0.000    0.000    0.000    0.000 C:\\Users\\alber\\AppData\\Local\\Programs\\Python\\Python310\\lib\\contextlib.py:130(__enter__)\n",
      "        2    0.000    0.000    0.000    0.000 C:\\Users\\alber\\AppData\\Local\\Programs\\Python\\Python310\\lib\\contextlib.py:139(__exit__)\n",
      "        2    0.000    0.000    0.000    0.000 c:\\Users\\alber\\OneDrive\\Escritorio\\Files\\adjdajad\\.venv\\lib\\site-packages\\traitlets\\traitlets.py:629(get)\n",
      "        2    0.000    0.000    0.000    0.000 c:\\Users\\alber\\OneDrive\\Escritorio\\Files\\adjdajad\\.venv\\lib\\site-packages\\ipykernel\\iostream.py:138(_event_pipe)\n",
      "       22    0.000    0.000    0.000    0.000 {built-in method builtins.len}\n",
      "       16    0.000    0.000    0.000    0.000 {built-in method nt.getpid}\n",
      "        4    0.000    0.000    0.000    0.000 c:\\Users\\alber\\OneDrive\\Escritorio\\Files\\adjdajad\\.venv\\lib\\site-packages\\IPython\\core\\compilerop.py:180(extra_flags)\n",
      "        2    0.000    0.000    0.000    0.000 {method 'acquire' of '_thread.lock' objects}\n",
      "       16    0.000    0.000    0.000    0.000 {method 'write' of '_io.StringIO' objects}\n",
      "       16    0.000    0.000    0.000    0.000 {method '__exit__' of '_thread.RLock' objects}\n",
      "       16    0.000    0.000    0.000    0.000 {method 'get' of '_contextvars.ContextVar' objects}\n",
      "       16    0.000    0.000    0.000    0.000 {method 'items' of 'dict' objects}\n",
      "        4    0.000    0.000    0.000    0.000 {built-in method time.time}\n",
      "        2    0.000    0.000    0.000    0.000 c:\\Users\\alber\\OneDrive\\Escritorio\\Files\\adjdajad\\.venv\\lib\\site-packages\\IPython\\core\\interactiveshell.py:1277(user_global_ns)\n",
      "        4    0.000    0.000    0.000    0.000 {built-in method builtins.getattr}\n",
      "       16    0.000    0.000    0.000    0.000 {built-in method builtins.isinstance}\n",
      "        2    0.000    0.000    0.000    0.000 c:\\Users\\alber\\OneDrive\\Escritorio\\Files\\adjdajad\\.venv\\lib\\site-packages\\IPython\\core\\interactiveshell.py:3493(compare)\n",
      "        2    0.000    0.000    0.000    0.000 C:\\Users\\alber\\AppData\\Local\\Programs\\Python\\Python310\\lib\\threading.py:553(is_set)\n",
      "        1    0.000    0.000    0.000    0.000 c:\\Users\\alber\\OneDrive\\Escritorio\\Files\\adjdajad\\.venv\\lib\\site-packages\\dateutil\\tz\\tz.py:74(utcoffset)\n",
      "        2    0.000    0.000    0.000    0.000 {method 'append' of 'collections.deque' objects}\n",
      "        4    0.000    0.000    0.000    0.000 C:\\Users\\alber\\AppData\\Local\\Programs\\Python\\Python310\\lib\\typing.py:1737(cast)\n",
      "        1    0.000    0.000    0.000    0.000 {method 'disable' of '_lsprof.Profiler' objects}\n",
      "\n",
      "\n"
     ]
    },
    {
     "data": {
      "text/plain": [
       "<pstats.Stats at 0x281ca501780>"
      ]
     },
     "execution_count": 81,
     "metadata": {},
     "output_type": "execute_result"
    }
   ],
   "source": [
    "profiler = cProfile.Profile()\n",
    "profiler.enable()\n",
    "calc_pure_python(draw_output=False, desired_width=1000, max_iterations=300)\n",
    "profiler.disable()\n",
    "stats = pstats.Stats(profiler).sort_stats('cumulative')\n",
    "stats.print_stats()"
   ]
  },
  {
   "cell_type": "markdown",
   "metadata": {},
   "source": [
    "### 5.\n",
    "\n",
    "Use snakeviz to get a high-level understanding of the cPrifile statistics file. Analyze \n",
    "the output and make a syntesis of the findings. "
   ]
  },
  {
   "cell_type": "code",
   "execution_count": null,
   "metadata": {},
   "outputs": [
    {
     "name": "stdout",
     "output_type": "stream",
     "text": [
      "The snakeviz extension is already loaded. To reload it, use:\n",
      "  %reload_ext snakeviz\n",
      "Length of x: 1000\n",
      "Total elements: 1000000\n",
      "calculate_z_serial_purepython took 10.717573404312134 seconds\n",
      "calculate_z_serial_purepython took 10.717573404312134 seconds\n",
      "^C\n"
     ]
    }
   ],
   "source": [
    "# using snakeviz\n",
    "%load_ext snakeviz\n",
    "\n",
    "if __name__ == \"__main__\":\n",
    "    cProfile.run('calc_pure_python(draw_output=False, desired_width=1000, max_iterations=300)', 'Results') # save to file\n",
    "\n",
    "# view the results on the browser\n",
    "!snakeviz \"Results\""
   ]
  },
  {
   "cell_type": "markdown",
   "metadata": {},
   "source": [
    "### 6.\n",
    "\n",
    "Use the line_profiler and kernprof file to profile line-by-line the function \n",
    "calculate_z_serial_purepython. Analyze the output and make a syntesis of the \n",
    "findings. "
   ]
  },
  {
   "cell_type": "code",
   "execution_count": null,
   "metadata": {},
   "outputs": [
    {
     "name": "stderr",
     "output_type": "stream",
     "text": [
      "c:\\Users\\alber\\OneDrive\\Escritorio\\Files\\adjdajad\\.venv\\lib\\site-packages\\line_profiler\\ipython_extension.py:97: UserWarning: Adding a function with a __wrapped__ attribute. You may want to profile the wrapped function by adding calculate_z_serial_purepython.__wrapped__ instead.\n",
      "  profile = LineProfiler(*funcs)\n"
     ]
    },
    {
     "name": "stdout",
     "output_type": "stream",
     "text": [
      "Length of x: 1000\n",
      "Total elements: 1000000\n",
      "calculate_z_serial_purepython took 30.42072582244873 seconds\n",
      "calculate_z_serial_purepython took 30.42172598838806 seconds\n"
     ]
    },
    {
     "name": "stdout",
     "output_type": "stream",
     "text": [
      "Timer unit: 1e-07 s\n",
      "\n",
      "Total time: 30.4215 s\n",
      "File: C:\\Users\\alber\\AppData\\Local\\Temp\\ipykernel_19648\\243504150.py\n",
      "Function: measure_time at line 2\n",
      "\n",
      "Line #      Hits         Time  Per Hit   % Time  Line Contents\n",
      "==============================================================\n",
      "     2                                               @wraps(function)\n",
      "     3                                               def measure_time(*args, **kwargs):\n",
      "     4         1         12.0     12.0      0.0          t1 = time.time()\n",
      "     5         1  304213760.0    3e+08    100.0          result = function(*args, **kwargs)\n",
      "     6         1         24.0     24.0      0.0          t2 = time.time()\n",
      "     7         1          6.0      6.0      0.0          total_time = t2 - t1\n",
      "     8         1       1656.0   1656.0      0.0          print(f\"{function.__name__} took {total_time} seconds\")\n",
      "     9         1          2.0      2.0      0.0          return result"
     ]
    }
   ],
   "source": [
    "# use line_profiler to profile the code\n",
    "%load_ext line_profiler\n",
    "\n",
    "# profile the function\n",
    "%lprun -f calculate_z_serial_purepython calc_pure_python(draw_output=False, desired_width=1000, max_iterations=300) "
   ]
  },
  {
   "cell_type": "markdown",
   "metadata": {},
   "source": [
    "### 7.\n",
    "Use the memory_profiler to diagnose memory usage. Analyze the output and make \n",
    "a syntesis of the findings. \n"
   ]
  },
  {
   "cell_type": "code",
   "execution_count": null,
   "metadata": {},
   "outputs": [
    {
     "name": "stdout",
     "output_type": "stream",
     "text": [
      "Length of x: 1000\n",
      "Total elements: 1000000\n",
      "calculate_z_serial_purepython took 6.528759241104126 seconds\n",
      "calculate_z_serial_purepython took 6.528759241104126 seconds\n",
      "peak memory: 245.83 MiB, increment: 72.38 MiB\n"
     ]
    }
   ],
   "source": [
    "# use memory_profiler to profile the code\n",
    "%reload_ext memory_profiler \n",
    "\n",
    "# profile the function\n",
    "%memit calc_pure_python(draw_output=False, desired_width=1000, max_iterations=300)"
   ]
  }
 ],
 "metadata": {
  "kernelspec": {
   "display_name": ".venv",
   "language": "python",
   "name": "python3"
  },
  "language_info": {
   "codemirror_mode": {
    "name": "ipython",
    "version": 3
   },
   "file_extension": ".py",
   "mimetype": "text/x-python",
   "name": "python",
   "nbconvert_exporter": "python",
   "pygments_lexer": "ipython3",
   "version": "3.11.7"
  }
 },
 "nbformat": 4,
 "nbformat_minor": 2
}
