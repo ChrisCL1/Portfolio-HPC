{
 "cells": [
  {
   "cell_type": "markdown",
   "metadata": {},
   "source": [
    "### 1.\n",
    "Read the sections “Introducing the Julia Set” and “Calculating the Full Julia Set” on \n",
    "Chapter 2. Profiling to Find Bottlenecks from the book: M. Gorelick & I. Ozsvald \n",
    "(2020). High Performance Python. Practical Performant Programming for Humans. \n",
    "Second Edition. United States of America: O’Reilly Media, Inc. Implement the \n",
    "chapter functions (Example 2-1, 2-2, 2-3 and 2-4) on Python in order to calculate the \n",
    "Julia Set. Make the representation for the false gray and pure gray scale.  "
   ]
  },
  {
   "cell_type": "code",
   "execution_count": 1,
   "metadata": {},
   "outputs": [],
   "source": [
    "import time\n",
    "from PIL import Image # Pillow\n",
    "import array"
   ]
  },
  {
   "cell_type": "code",
   "execution_count": 2,
   "metadata": {},
   "outputs": [],
   "source": [
    "# area of space to be rendered\n",
    "x1, x2, y1, y2 = -1.8, 1.8, -1.8, 1.8\n",
    "c_real, c_imag = -0.62772, -.42193"
   ]
  },
  {
   "cell_type": "code",
   "execution_count": 3,
   "metadata": {},
   "outputs": [],
   "source": [
    "def calculate_z_serial_purepython(maxiter, zs, cs):\n",
    "    \"\"\"Calculate list\"\"\"\n",
    "    output = [0] * len(zs)\n",
    "    for i in range(len(zs)):\n",
    "        n = 0\n",
    "        z = zs[i]\n",
    "        c = cs[i]\n",
    "        while abs(z) < 2 and n < maxiter:\n",
    "            z = z * z + c\n",
    "            n += 1\n",
    "        output[i] = n\n",
    "    return output"
   ]
  },
  {
   "cell_type": "code",
   "execution_count": 4,
   "metadata": {},
   "outputs": [],
   "source": [
    "def calc_pure_python(draw_output, desired_width, max_iterations):\n",
    "    \"\"\"Create a list of zs and cs, build Julia set and display using PIL\"\"\"\n",
    "    x_step = (float(x2 - x1) / float(desired_width))\n",
    "    y_step = (float(y1 - y2) / float(desired_width))\n",
    "    x = []\n",
    "    y = []\n",
    "    ycoord = y2\n",
    "    while ycoord > y1:\n",
    "        y.append(ycoord)\n",
    "        ycoord += y_step\n",
    "    xcoord = x1\n",
    "    while xcoord < x2:\n",
    "        x.append(xcoord)\n",
    "        xcoord += x_step\n",
    "    # build a list and the initial condition.\n",
    "    zs = []\n",
    "    cs = []\n",
    "    for ycoord in y:\n",
    "        for xcoord in x:\n",
    "            zs.append(complex(xcoord, ycoord))\n",
    "            cs.append(complex(c_real, c_imag))\n",
    "\n",
    "    print(\"Length of x:\", len(x))\n",
    "    print(\"Total elements:\", len(zs))\n",
    "    start_time = time.time()\n",
    "    output = calculate_z_serial_purepython(max_iterations, zs, cs)\n",
    "    end_time = time.time()\n",
    "    secs = end_time - start_time\n",
    "    print(calculate_z_serial_purepython.__name__ + \" took\", secs, \"seconds\")\n",
    "\n",
    "    # 1000^2 grid with 300 iterations\n",
    "    assert sum(output) == 33219980"
   ]
  },
  {
   "cell_type": "code",
   "execution_count": 5,
   "metadata": {},
   "outputs": [
    {
     "name": "stdout",
     "output_type": "stream",
     "text": [
      "Length of x: 1000\n",
      "Total elements: 1000000\n",
      "calculate_z_serial_purepython took 4.320175647735596 seconds\n"
     ]
    }
   ],
   "source": [
    "if __name__ == \"__main__\":\n",
    "    # Calculate the Julia set \n",
    "    # set draw_output\n",
    "    calc_pure_python(draw_output=False, desired_width=1000, max_iterations=300)"
   ]
  },
  {
   "cell_type": "code",
   "execution_count": 6,
   "metadata": {},
   "outputs": [],
   "source": [
    "# area of complex space to be rendered\n",
    "x1, x2, y1, y2 = -1.8, 1.8, -1.8, 1.8\n",
    "c_real, c_imag = -0.62772, -.42193"
   ]
  },
  {
   "cell_type": "code",
   "execution_count": 7,
   "metadata": {},
   "outputs": [],
   "source": [
    "def show_greyscale(output_raw, width, height, max_iterations):\n",
    "    \"\"\"Convert list to array, show using PIL\"\"\"\n",
    "    # convert scale to [0...255]\n",
    "    max_iterations = float(max(output_raw))\n",
    "    print(max_iterations)\n",
    "    scale_factor = float(max_iterations)\n",
    "    scaled = [int(o / scale_factor * 255) for o in output_raw]\n",
    "    output = array.array('B', scaled)  # array of unsigned ints\n",
    "    # display\n",
    "    im = Image.new(\"L\", (width, width))\n",
    "    # Greyscale\n",
    "    im.frombytes(output.tobytes(), \"raw\", \"L\", 0, -1)\n",
    "    im.show(title=\"Greyscale Julia Set\")"
   ]
  },
  {
   "cell_type": "code",
   "execution_count": 8,
   "metadata": {},
   "outputs": [],
   "source": [
    "def show_false_greyscale(output_raw, width, height, max_iterations):\n",
    "    \"\"\"Convert list to array, show using PIL\"\"\"\n",
    "    # convert scale to [0...255]\n",
    "    assert width * height == len(output_raw)\n",
    "    # normalise to 0-255\n",
    "    max_value = float(max(output_raw))\n",
    "    output_raw_limited = [int(float(o) / max_value * 255) for o in output_raw]\n",
    "    # fancy RGB\n",
    "    output_rgb = (\n",
    "        (o + (256 * o) + (256 ** 2) * o) * 16 for o in output_raw_limited)  # fancier\n",
    "    # convert to bytes\n",
    "    output_rgb = array.array('I', output_rgb)\n",
    "    # display\n",
    "    im = Image.new(\"RGB\", (width, height))\n",
    "    # False colour\n",
    "    im.frombytes(output_rgb.tobytes(), \"raw\", \"RGBX\", 0, -1)\n",
    "    im.show(title=\"False Greyscale Julia Set\")"
   ]
  },
  {
   "cell_type": "code",
   "execution_count": 9,
   "metadata": {},
   "outputs": [],
   "source": [
    "def calculate_z_serial_purepython(maxiter, zs, cs):\n",
    "    \"\"\"Calculate list\"\"\"\n",
    "    output = [0] * len(zs)\n",
    "    for i in range(len(zs)):\n",
    "        n = 0\n",
    "        z = zs[i]\n",
    "        c = cs[i]\n",
    "        while abs(z) < 2 and n < maxiter:\n",
    "            z = z * z + c\n",
    "            n += 1\n",
    "        output[i] = n\n",
    "    return output"
   ]
  },
  {
   "cell_type": "code",
   "execution_count": 10,
   "metadata": {},
   "outputs": [],
   "source": [
    "def calc_pure_python(draw_output, desired_width, max_iterations):\n",
    "    \"\"\"Create a list of zs and cs, build Julia set and display using PIL\"\"\"\n",
    "    x_step = (float(x2 - x1) / float(desired_width))\n",
    "    y_step = (float(y1 - y2) / float(desired_width))\n",
    "    x = []\n",
    "    y = []\n",
    "    ycoord = y2\n",
    "    while ycoord > y1:\n",
    "        y.append(ycoord)\n",
    "        ycoord += y_step\n",
    "    xcoord = x1\n",
    "    while xcoord < x2:\n",
    "        x.append(xcoord)\n",
    "        xcoord += x_step\n",
    "    width = len(x)\n",
    "    height = len(y)\n",
    "    # build a list of co-ordinates and the initial condition \n",
    "    zs = []\n",
    "    cs = []\n",
    "    for ycoord in y:\n",
    "        for xcoord in x:\n",
    "            zs.append(complex(xcoord, ycoord))\n",
    "            cs.append(complex(c_real, c_imag))\n",
    "\n",
    "    print(\"Length of x:\", len(x))\n",
    "    print(\"Total elements:\", len(zs))\n",
    "    start_time = time.time()\n",
    "    output = calculate_z_serial_purepython(max_iterations, zs, cs)\n",
    "    end_time = time.time()\n",
    "    secs = end_time - start_time\n",
    "    print(calculate_z_serial_purepython.__name__ + \" took\", secs, \"seconds\")\n",
    "\n",
    "    # 1000^2 grid with 300 iterations\n",
    "    assert sum(output) == 33219980\n",
    "    \n",
    "    if draw_output:\n",
    "        \n",
    "        show_false_greyscale(output, width, height, max_iterations)\n",
    "        show_greyscale(output, width, height, max_iterations)\n",
    "        # use matplotlib to draw with falsegray and gray"
   ]
  },
  {
   "cell_type": "code",
   "execution_count": 11,
   "metadata": {},
   "outputs": [
    {
     "name": "stdout",
     "output_type": "stream",
     "text": [
      "Length of x: 1000\n",
      "Total elements: 1000000\n",
      "calculate_z_serial_purepython took 4.330952405929565 seconds\n",
      "300.0\n"
     ]
    },
    {
     "name": "stderr",
     "output_type": "stream",
     "text": [
      "/snap/core20/current/lib/x86_64-linux-gnu/libstdc++.so.6: version `GLIBCXX_3.4.29' not found (required by /lib/x86_64-linux-gnu/libproxy.so.1)\n",
      "Failed to load module: /home/chris/snap/code/common/.cache/gio-modules/libgiolibproxy.so\n",
      "eog: symbol lookup error: /snap/core20/current/lib/x86_64-linux-gnu/libpthread.so.0: undefined symbol: __libc_pthread_init, version GLIBC_PRIVATE\n",
      "/snap/core20/current/lib/x86_64-linux-gnu/libstdc++.so.6: version `GLIBCXX_3.4.29' not found (required by /lib/x86_64-linux-gnu/libproxy.so.1)\n",
      "Failed to load module: /home/chris/snap/code/common/.cache/gio-modules/libgiolibproxy.so\n"
     ]
    }
   ],
   "source": [
    "if __name__ == \"__main__\":\n",
    "    # Calculate the Julia set\n",
    "    calc_pure_python(draw_output=True, desired_width=1000, max_iterations=300)"
   ]
  },
  {
   "cell_type": "markdown",
   "metadata": {},
   "source": [
    "### 2.\n",
    "Define a new function, timefn, which takes a function as an argument: the inner \n",
    "function, measure_time, takes *args (a variable number of positional arguments) \n",
    "and **kwargs (a variable number of key/value arguments) and passes them through \n",
    "to fn for execution. Decorate calculate_z_serial_purepython with @timefn to profile \n",
    "it. Implement Example 2-5 and adapt your current source code."
   ]
  },
  {
   "cell_type": "code",
   "execution_count": 12,
   "metadata": {},
   "outputs": [],
   "source": [
    "import time\n",
    "from functools import wraps"
   ]
  },
  {
   "cell_type": "code",
   "execution_count": 13,
   "metadata": {},
   "outputs": [],
   "source": [
    "def timefn(function):\n",
    "    @wraps(function)\n",
    "    def measure_time(*args, **kwargs):\n",
    "        t1 = time.time()\n",
    "        result = function(*args, **kwargs)\n",
    "        t2 = time.time()\n",
    "        total_time = t2 - t1\n",
    "        print(f\"{function.__name__} took {total_time} seconds\")\n",
    "        return result\n",
    "    return measure_time\n",
    "    \n",
    "@timefn\n",
    "def calculate_z_serial_purepython(maxiter, zs, cs):\n",
    "    \"\"\"Executes Julia set calculation\"\"\"\n",
    "    output = [0] * len(zs)\n",
    "    for i in range(len(zs)):\n",
    "        n = 0\n",
    "        z = zs[i]\n",
    "        c = cs[i]\n",
    "        while abs(z) < 2 and n < maxiter:\n",
    "            z = z * z + c\n",
    "            n += 1\n",
    "        output[i] = n\n",
    "    return output"
   ]
  },
  {
   "cell_type": "code",
   "execution_count": 14,
   "metadata": {},
   "outputs": [
    {
     "name": "stderr",
     "output_type": "stream",
     "text": [
      "eog: symbol lookup error: /snap/core20/current/lib/x86_64-linux-gnu/libpthread.so.0: undefined symbol: __libc_pthread_init, version GLIBC_PRIVATE\n"
     ]
    },
    {
     "name": "stdout",
     "output_type": "stream",
     "text": [
      "Length of x: 1000\n",
      "Total elements: 1000000\n",
      "calculate_z_serial_purepython took 4.278077840805054 seconds\n",
      "calculate_z_serial_purepython took 4.2781455516815186 seconds\n"
     ]
    }
   ],
   "source": [
    "if __name__ == \"__main__\":\n",
    "     # Compute Julia set with Python only; settings optimized for laptops\n",
    "    calc_pure_python(draw_output=False, desired_width=1000, max_iterations=300)"
   ]
  },
  {
   "cell_type": "markdown",
   "metadata": {},
   "source": [
    "### 3.\n",
    "Use the timeit modeule to get a coarse measurement of the execution speed of the \n",
    "CPU-bound function. Runs 10 loops with 5 repetitions. Show how to do the \n",
    "measurement on the command line and on a Jupyter Notebook. "
   ]
  },
  {
   "cell_type": "code",
   "execution_count": 15,
   "metadata": {},
   "outputs": [
    {
     "name": "stdout",
     "output_type": "stream",
     "text": [
      "Length of x: 1000\n",
      "Total elements: 1000000\n",
      "calculate_z_serial_purepython took 4.174441576004028 seconds\n",
      "calculate_z_serial_purepython took 4.174518823623657 seconds\n",
      "Length of x: 1000\n",
      "Total elements: 1000000\n",
      "calculate_z_serial_purepython took 4.087728023529053 seconds\n",
      "calculate_z_serial_purepython took 4.087798118591309 seconds\n",
      "Length of x: 1000\n",
      "Total elements: 1000000\n",
      "calculate_z_serial_purepython took 3.9615743160247803 seconds\n",
      "calculate_z_serial_purepython took 3.9616429805755615 seconds\n",
      "Length of x: 1000\n",
      "Total elements: 1000000\n",
      "calculate_z_serial_purepython took 3.9566292762756348 seconds\n",
      "calculate_z_serial_purepython took 3.9566946029663086 seconds\n",
      "Length of x: 1000\n",
      "Total elements: 1000000\n",
      "calculate_z_serial_purepython took 3.9580259323120117 seconds\n",
      "calculate_z_serial_purepython took 3.958090305328369 seconds\n",
      "Length of x: 1000\n",
      "Total elements: 1000000\n",
      "calculate_z_serial_purepython took 3.9476125240325928 seconds\n",
      "calculate_z_serial_purepython took 3.947678565979004 seconds\n",
      "Length of x: 1000\n",
      "Total elements: 1000000\n",
      "calculate_z_serial_purepython took 3.944775342941284 seconds\n",
      "calculate_z_serial_purepython took 3.9448435306549072 seconds\n",
      "Length of x: 1000\n",
      "Total elements: 1000000\n",
      "calculate_z_serial_purepython took 4.317907094955444 seconds\n",
      "calculate_z_serial_purepython took 4.3179779052734375 seconds\n",
      "Length of x: 1000\n",
      "Total elements: 1000000\n",
      "calculate_z_serial_purepython took 3.9659993648529053 seconds\n",
      "calculate_z_serial_purepython took 3.966062545776367 seconds\n",
      "Length of x: 1000\n",
      "Total elements: 1000000\n",
      "calculate_z_serial_purepython took 3.9945881366729736 seconds\n",
      "calculate_z_serial_purepython took 3.9946532249450684 seconds\n",
      "Length of x: 1000\n",
      "Total elements: 1000000\n",
      "calculate_z_serial_purepython took 3.991276502609253 seconds\n",
      "calculate_z_serial_purepython took 3.991342067718506 seconds\n",
      "Length of x: 1000\n",
      "Total elements: 1000000\n",
      "calculate_z_serial_purepython took 3.9600839614868164 seconds\n",
      "calculate_z_serial_purepython took 3.960150718688965 seconds\n",
      "Length of x: 1000\n",
      "Total elements: 1000000\n",
      "calculate_z_serial_purepython took 3.944464921951294 seconds\n",
      "calculate_z_serial_purepython took 3.9445319175720215 seconds\n",
      "Length of x: 1000\n",
      "Total elements: 1000000\n",
      "calculate_z_serial_purepython took 3.947911024093628 seconds\n",
      "calculate_z_serial_purepython took 3.9479784965515137 seconds\n",
      "Length of x: 1000\n",
      "Total elements: 1000000\n",
      "calculate_z_serial_purepython took 3.953946590423584 seconds\n",
      "calculate_z_serial_purepython took 3.9540135860443115 seconds\n",
      "Length of x: 1000\n",
      "Total elements: 1000000\n",
      "calculate_z_serial_purepython took 4.032516956329346 seconds\n",
      "calculate_z_serial_purepython took 4.0325846672058105 seconds\n",
      "Length of x: 1000\n",
      "Total elements: 1000000\n",
      "calculate_z_serial_purepython took 4.586562633514404 seconds\n",
      "calculate_z_serial_purepython took 4.586646318435669 seconds\n",
      "Length of x: 1000\n",
      "Total elements: 1000000\n",
      "calculate_z_serial_purepython took 4.149888277053833 seconds\n",
      "calculate_z_serial_purepython took 4.1499550342559814 seconds\n",
      "Length of x: 1000\n",
      "Total elements: 1000000\n",
      "calculate_z_serial_purepython took 3.9892890453338623 seconds\n",
      "calculate_z_serial_purepython took 3.989354133605957 seconds\n",
      "Length of x: 1000\n",
      "Total elements: 1000000\n",
      "calculate_z_serial_purepython took 4.270848751068115 seconds\n",
      "calculate_z_serial_purepython took 4.270919561386108 seconds\n",
      "Length of x: 1000\n",
      "Total elements: 1000000\n",
      "calculate_z_serial_purepython took 3.9897427558898926 seconds\n",
      "calculate_z_serial_purepython took 3.989807605743408 seconds\n",
      "Length of x: 1000\n",
      "Total elements: 1000000\n",
      "calculate_z_serial_purepython took 4.425396203994751 seconds\n",
      "calculate_z_serial_purepython took 4.425494432449341 seconds\n",
      "Length of x: 1000\n",
      "Total elements: 1000000\n",
      "calculate_z_serial_purepython took 4.073767900466919 seconds\n",
      "calculate_z_serial_purepython took 4.073835372924805 seconds\n",
      "Length of x: 1000\n",
      "Total elements: 1000000\n",
      "calculate_z_serial_purepython took 4.015871286392212 seconds\n",
      "calculate_z_serial_purepython took 4.015937805175781 seconds\n",
      "Length of x: 1000\n",
      "Total elements: 1000000\n",
      "calculate_z_serial_purepython took 4.157831430435181 seconds\n",
      "calculate_z_serial_purepython took 4.157898902893066 seconds\n",
      "Length of x: 1000\n",
      "Total elements: 1000000\n",
      "calculate_z_serial_purepython took 4.176437139511108 seconds\n",
      "calculate_z_serial_purepython took 4.1765031814575195 seconds\n",
      "Length of x: 1000\n",
      "Total elements: 1000000\n",
      "calculate_z_serial_purepython took 4.192671298980713 seconds\n",
      "calculate_z_serial_purepython took 4.1927406787872314 seconds\n",
      "Length of x: 1000\n",
      "Total elements: 1000000\n",
      "calculate_z_serial_purepython took 4.20065712928772 seconds\n",
      "calculate_z_serial_purepython took 4.20072340965271 seconds\n",
      "Length of x: 1000\n",
      "Total elements: 1000000\n",
      "calculate_z_serial_purepython took 4.041095018386841 seconds\n",
      "calculate_z_serial_purepython took 4.041150808334351 seconds\n",
      "Length of x: 1000\n",
      "Total elements: 1000000\n",
      "calculate_z_serial_purepython took 4.016117334365845 seconds\n",
      "calculate_z_serial_purepython took 4.016181468963623 seconds\n",
      "Length of x: 1000\n",
      "Total elements: 1000000\n",
      "calculate_z_serial_purepython took 4.0105109214782715 seconds\n",
      "calculate_z_serial_purepython took 4.010575771331787 seconds\n",
      "Length of x: 1000\n",
      "Total elements: 1000000\n",
      "calculate_z_serial_purepython took 4.379662990570068 seconds\n",
      "calculate_z_serial_purepython took 4.3797290325164795 seconds\n",
      "Length of x: 1000\n",
      "Total elements: 1000000\n",
      "calculate_z_serial_purepython took 4.003697395324707 seconds\n",
      "calculate_z_serial_purepython took 4.003764867782593 seconds\n",
      "Length of x: 1000\n",
      "Total elements: 1000000\n",
      "calculate_z_serial_purepython took 4.026173114776611 seconds\n",
      "calculate_z_serial_purepython took 4.026238203048706 seconds\n",
      "Length of x: 1000\n",
      "Total elements: 1000000\n",
      "calculate_z_serial_purepython took 4.012783050537109 seconds\n",
      "calculate_z_serial_purepython took 4.01284646987915 seconds\n",
      "Length of x: 1000\n",
      "Total elements: 1000000\n",
      "calculate_z_serial_purepython took 4.024746656417847 seconds\n",
      "calculate_z_serial_purepython took 4.024810552597046 seconds\n",
      "Length of x: 1000\n",
      "Total elements: 1000000\n",
      "calculate_z_serial_purepython took 4.002094030380249 seconds\n",
      "calculate_z_serial_purepython took 4.002157211303711 seconds\n",
      "Length of x: 1000\n",
      "Total elements: 1000000\n",
      "calculate_z_serial_purepython took 4.171233177185059 seconds\n",
      "calculate_z_serial_purepython took 4.171301364898682 seconds\n",
      "Length of x: 1000\n",
      "Total elements: 1000000\n",
      "calculate_z_serial_purepython took 4.046770095825195 seconds\n",
      "calculate_z_serial_purepython took 4.046836614608765 seconds\n",
      "Length of x: 1000\n",
      "Total elements: 1000000\n",
      "calculate_z_serial_purepython took 4.46147608757019 seconds\n",
      "calculate_z_serial_purepython took 4.461533546447754 seconds\n",
      "Length of x: 1000\n",
      "Total elements: 1000000\n",
      "calculate_z_serial_purepython took 4.023699760437012 seconds\n",
      "calculate_z_serial_purepython took 4.023766040802002 seconds\n",
      "Length of x: 1000\n",
      "Total elements: 1000000\n",
      "calculate_z_serial_purepython took 4.298074245452881 seconds\n",
      "calculate_z_serial_purepython took 4.298144340515137 seconds\n",
      "Length of x: 1000\n",
      "Total elements: 1000000\n",
      "calculate_z_serial_purepython took 4.116687059402466 seconds\n",
      "calculate_z_serial_purepython took 4.116754055023193 seconds\n",
      "Length of x: 1000\n",
      "Total elements: 1000000\n",
      "calculate_z_serial_purepython took 4.0793445110321045 seconds\n",
      "calculate_z_serial_purepython took 4.079417705535889 seconds\n",
      "Length of x: 1000\n",
      "Total elements: 1000000\n",
      "calculate_z_serial_purepython took 4.132790565490723 seconds\n",
      "calculate_z_serial_purepython took 4.132859230041504 seconds\n",
      "Length of x: 1000\n",
      "Total elements: 1000000\n",
      "calculate_z_serial_purepython took 4.081381559371948 seconds\n",
      "calculate_z_serial_purepython took 4.081446409225464 seconds\n",
      "Length of x: 1000\n",
      "Total elements: 1000000\n",
      "calculate_z_serial_purepython took 4.187334299087524 seconds\n",
      "calculate_z_serial_purepython took 4.187401056289673 seconds\n",
      "Length of x: 1000\n",
      "Total elements: 1000000\n",
      "calculate_z_serial_purepython took 4.0981621742248535 seconds\n",
      "calculate_z_serial_purepython took 4.098228216171265 seconds\n",
      "Length of x: 1000\n",
      "Total elements: 1000000\n",
      "calculate_z_serial_purepython took 4.419678211212158 seconds\n",
      "calculate_z_serial_purepython took 4.419745445251465 seconds\n",
      "Length of x: 1000\n",
      "Total elements: 1000000\n",
      "calculate_z_serial_purepython took 4.224882125854492 seconds\n",
      "calculate_z_serial_purepython took 4.224949359893799 seconds\n",
      "4.31 s ± 47.9 ms per loop (mean ± std. dev. of 5 runs, 10 loops each)\n"
     ]
    }
   ],
   "source": [
    "%timeit -r 5 -n 10 calc_pure_python(draw_output=False,desired_width=1000, max_iterations=300)"
   ]
  },
  {
   "cell_type": "markdown",
   "metadata": {},
   "source": [
    "### 4.\n",
    "\n",
    "Use the cProfile module to profile the source code (.py). Sort the results by the time \n",
    "spent inside each function. This will give a view into the slowest parts. Analyze the \n",
    "output and make a syntesis of the findings. Show how to use the cProfile module on \n",
    "the command line and on a Jupyter Notebook. "
   ]
  },
  {
   "cell_type": "code",
   "execution_count": 16,
   "metadata": {},
   "outputs": [],
   "source": [
    "import cProfile\n",
    "import pstats"
   ]
  },
  {
   "cell_type": "code",
   "execution_count": 17,
   "metadata": {},
   "outputs": [
    {
     "name": "stdout",
     "output_type": "stream",
     "text": [
      "Length of x: 1000\n",
      "Total elements: 1000000\n",
      "calculate_z_serial_purepython took 10.678610801696777 seconds\n",
      "calculate_z_serial_purepython took 10.678703308105469 seconds\n",
      "         36222235 function calls in 11.247 seconds\n",
      "\n",
      "   Ordered by: cumulative time\n",
      "\n",
      "   ncalls  tottime  percall  cumtime  percall filename:lineno(function)\n",
      "        2    0.000    0.000   11.270    5.635 /home/chris/miniconda3/envs/hpc3/lib/python3.11/site-packages/IPython/core/interactiveshell.py:3541(run_code)\n",
      "        2    0.000    0.000   11.269    5.635 {built-in method builtins.exec}\n",
      "        1    0.468    0.468   11.246   11.246 /tmp/ipykernel_5527/733580140.py:1(calc_pure_python)\n",
      "        1    0.000    0.000   10.679   10.679 /tmp/ipykernel_5527/472432449.py:2(measure_time)\n",
      "        1    8.158    8.158   10.679   10.679 /tmp/ipykernel_5527/472432449.py:12(calculate_z_serial_purepython)\n",
      " 34219980    2.521    0.000    2.521    0.000 {built-in method builtins.abs}\n",
      "  2002000    0.095    0.000    0.095    0.000 {method 'append' of 'list' objects}\n",
      "        1    0.004    0.004    0.004    0.004 {built-in method builtins.sum}\n",
      "        4    0.000    0.000    0.000    0.000 {built-in method builtins.print}\n",
      "       16    0.000    0.000    0.000    0.000 /home/chris/miniconda3/envs/hpc3/lib/python3.11/site-packages/ipykernel/iostream.py:655(write)\n",
      "       16    0.000    0.000    0.000    0.000 /home/chris/miniconda3/envs/hpc3/lib/python3.11/site-packages/ipykernel/iostream.py:577(_schedule_flush)\n",
      "        2    0.000    0.000    0.000    0.000 /home/chris/miniconda3/envs/hpc3/lib/python3.11/site-packages/ipykernel/iostream.py:259(schedule)\n",
      "        2    0.000    0.000    0.000    0.000 /home/chris/miniconda3/envs/hpc3/lib/python3.11/codeop.py:120(__call__)\n",
      "        2    0.000    0.000    0.000    0.000 {built-in method builtins.compile}\n",
      "        2    0.000    0.000    0.000    0.000 /home/chris/miniconda3/envs/hpc3/lib/python3.11/site-packages/zmq/sugar/socket.py:621(send)\n",
      "        2    0.000    0.000    0.000    0.000 /home/chris/miniconda3/envs/hpc3/lib/python3.11/threading.py:1192(is_alive)\n",
      "       16    0.000    0.000    0.000    0.000 /home/chris/miniconda3/envs/hpc3/lib/python3.11/site-packages/ipykernel/iostream.py:550(_is_master_process)\n",
      "       16    0.000    0.000    0.000    0.000 /home/chris/miniconda3/envs/hpc3/lib/python3.11/site-packages/ipykernel/iostream.py:505(parent_header)\n",
      "        4    0.000    0.000    0.000    0.000 {built-in method builtins.next}\n",
      "        2    0.000    0.000    0.000    0.000 /home/chris/miniconda3/envs/hpc3/lib/python3.11/contextlib.py:132(__enter__)\n",
      "        2    0.000    0.000    0.000    0.000 /home/chris/miniconda3/envs/hpc3/lib/python3.11/site-packages/traitlets/traitlets.py:676(__get__)\n",
      "        2    0.000    0.000    0.000    0.000 /home/chris/miniconda3/envs/hpc3/lib/python3.11/contextlib.py:299(helper)\n",
      "        4    0.000    0.000    0.000    0.000 /home/chris/miniconda3/envs/hpc3/lib/python3.11/site-packages/IPython/core/compilerop.py:180(extra_flags)\n",
      "        2    0.000    0.000    0.000    0.000 /home/chris/miniconda3/envs/hpc3/lib/python3.11/contextlib.py:141(__exit__)\n",
      "        2    0.000    0.000    0.000    0.000 /home/chris/miniconda3/envs/hpc3/lib/python3.11/contextlib.py:104(__init__)\n",
      "        2    0.000    0.000    0.000    0.000 /home/chris/miniconda3/envs/hpc3/lib/python3.11/threading.py:1125(_wait_for_tstate_lock)\n",
      "       16    0.000    0.000    0.000    0.000 {built-in method posix.getpid}\n",
      "        2    0.000    0.000    0.000    0.000 /home/chris/miniconda3/envs/hpc3/lib/python3.11/site-packages/ipykernel/iostream.py:138(_event_pipe)\n",
      "       22    0.000    0.000    0.000    0.000 {built-in method builtins.len}\n",
      "        1    0.000    0.000    0.000    0.000 /tmp/ipykernel_5527/3075722868.py:1(<module>)\n",
      "        2    0.000    0.000    0.000    0.000 /home/chris/miniconda3/envs/hpc3/lib/python3.11/site-packages/traitlets/traitlets.py:629(get)\n",
      "       16    0.000    0.000    0.000    0.000 {method 'write' of '_io.StringIO' objects}\n",
      "       16    0.000    0.000    0.000    0.000 {method 'get' of '_contextvars.ContextVar' objects}\n",
      "        2    0.000    0.000    0.000    0.000 {method 'acquire' of '_thread.lock' objects}\n",
      "       16    0.000    0.000    0.000    0.000 {method '__exit__' of '_thread.RLock' objects}\n",
      "        2    0.000    0.000    0.000    0.000 /home/chris/miniconda3/envs/hpc3/lib/python3.11/site-packages/IPython/core/interactiveshell.py:3493(compare)\n",
      "       16    0.000    0.000    0.000    0.000 {built-in method builtins.isinstance}\n",
      "        4    0.000    0.000    0.000    0.000 {built-in method builtins.getattr}\n",
      "       16    0.000    0.000    0.000    0.000 {method 'items' of 'dict' objects}\n",
      "        4    0.000    0.000    0.000    0.000 {built-in method time.time}\n",
      "        2    0.000    0.000    0.000    0.000 /home/chris/miniconda3/envs/hpc3/lib/python3.11/site-packages/IPython/core/interactiveshell.py:1277(user_global_ns)\n",
      "        2    0.000    0.000    0.000    0.000 /home/chris/miniconda3/envs/hpc3/lib/python3.11/threading.py:575(is_set)\n",
      "        1    0.000    0.000    0.000    0.000 /home/chris/miniconda3/envs/hpc3/lib/python3.11/site-packages/dateutil/tz/tz.py:74(utcoffset)\n",
      "        4    0.000    0.000    0.000    0.000 /home/chris/miniconda3/envs/hpc3/lib/python3.11/typing.py:2268(cast)\n",
      "        2    0.000    0.000    0.000    0.000 {method 'append' of 'collections.deque' objects}\n",
      "        1    0.000    0.000    0.000    0.000 {method 'disable' of '_lsprof.Profiler' objects}\n",
      "        2    0.000    0.000    0.000    0.000 {method 'get' of 'dict' objects}\n",
      "\n",
      "\n"
     ]
    },
    {
     "data": {
      "text/plain": [
       "<pstats.Stats at 0x78126c221a50>"
      ]
     },
     "execution_count": 17,
     "metadata": {},
     "output_type": "execute_result"
    }
   ],
   "source": [
    "profiler = cProfile.Profile()\n",
    "profiler.enable()\n",
    "calc_pure_python(draw_output=False, desired_width=1000, max_iterations=300)\n",
    "profiler.disable()\n",
    "stats = pstats.Stats(profiler).sort_stats('cumulative')\n",
    "stats.print_stats()"
   ]
  },
  {
   "cell_type": "markdown",
   "metadata": {},
   "source": [
    "### 5.\n",
    "\n",
    "Use snakeviz to get a high-level understanding of the cPrifile statistics file. Analyze \n",
    "the output and make a syntesis of the findings. "
   ]
  },
  {
   "cell_type": "code",
   "execution_count": 19,
   "metadata": {},
   "outputs": [
    {
     "name": "stdout",
     "output_type": "stream",
     "text": [
      "Length of x: 1000\n",
      "Total elements: 1000000\n",
      "calculate_z_serial_purepython took 10.147825241088867 seconds\n",
      "calculate_z_serial_purepython took 10.14790654182434 seconds\n",
      "snakeviz web server started on 127.0.0.1:8080; enter Ctrl-C to exit\n",
      "http://127.0.0.1:8080/snakeviz/%2Fhome%2Fchris%2FDesktop%2FHPC%2FHomework%2FCA3C%2FPart%201%20-%20Benchmarking%20and%20Profiling%2FResults\n",
      "^C\n",
      "\n",
      "Bye!\n"
     ]
    }
   ],
   "source": [
    "# using snakeviz\n",
    "%load_ext snakeviz\n",
    "\n",
    "if __name__ == \"__main__\":\n",
    "    cProfile.run('calc_pure_python(draw_output=False, desired_width=1000, max_iterations=300)', 'Results') # save to file\n",
    "\n",
    "# view the results on the browser\n",
    "!snakeviz \"Results\""
   ]
  },
  {
   "cell_type": "markdown",
   "metadata": {},
   "source": [
    "### 6.\n",
    "\n",
    "Use the line_profiler and kernprof file to profile line-by-line the function \n",
    "calculate_z_serial_purepython. Analyze the output and make a syntesis of the \n",
    "findings. "
   ]
  },
  {
   "cell_type": "code",
   "execution_count": 20,
   "metadata": {},
   "outputs": [
    {
     "name": "stderr",
     "output_type": "stream",
     "text": [
      "/home/chris/miniconda3/envs/hpc3/lib/python3.11/site-packages/line_profiler/ipython_extension.py:97: UserWarning: Adding a function with a __wrapped__ attribute. You may want to profile the wrapped function by adding calculate_z_serial_purepython.__wrapped__ instead.\n",
      "  profile = LineProfiler(*funcs)\n"
     ]
    },
    {
     "name": "stdout",
     "output_type": "stream",
     "text": [
      "Length of x: 1000\n",
      "Total elements: 1000000\n",
      "calculate_z_serial_purepython took 13.802193641662598 seconds\n",
      "calculate_z_serial_purepython took 13.802300691604614 seconds\n"
     ]
    },
    {
     "name": "stdout",
     "output_type": "stream",
     "text": [
      "Timer unit: 1e-09 s\n",
      "\n",
      "Total time: 13.8023 s\n",
      "File: /tmp/ipykernel_5527/472432449.py\n",
      "Function: measure_time at line 2\n",
      "\n",
      "Line #      Hits         Time  Per Hit   % Time  Line Contents\n",
      "==============================================================\n",
      "     2                                               @wraps(function)\n",
      "     3                                               def measure_time(*args, **kwargs):\n",
      "     4         1       2579.0   2579.0      0.0          t1 = time.time()\n",
      "     5         1        1e+10    1e+10    100.0          result = function(*args, **kwargs)\n",
      "     6         1       2476.0   2476.0      0.0          t2 = time.time()\n",
      "     7         1        747.0    747.0      0.0          total_time = t2 - t1\n",
      "     8         1      84496.0  84496.0      0.0          print(f\"{function.__name__} took {total_time} seconds\")\n",
      "     9         1        210.0    210.0      0.0          return result"
     ]
    }
   ],
   "source": [
    "# use line_profiler to profile the code\n",
    "%load_ext line_profiler\n",
    "\n",
    "# profile the function\n",
    "%lprun -f calculate_z_serial_purepython calc_pure_python(draw_output=False, desired_width=1000, max_iterations=300) "
   ]
  },
  {
   "cell_type": "markdown",
   "metadata": {},
   "source": [
    "### 7.\n",
    "Use the memory_profiler to diagnose memory usage. Analyze the output and make \n",
    "a syntesis of the findings. \n"
   ]
  },
  {
   "cell_type": "code",
   "execution_count": 21,
   "metadata": {},
   "outputs": [
    {
     "name": "stdout",
     "output_type": "stream",
     "text": [
      "Length of x: 1000\n",
      "Total elements: 1000000\n",
      "calculate_z_serial_purepython took 4.181931018829346 seconds\n",
      "calculate_z_serial_purepython took 4.182017087936401 seconds\n",
      "peak memory: 178.66 MiB, increment: 85.25 MiB\n"
     ]
    }
   ],
   "source": [
    "# use memory_profiler to profile the code\n",
    "%reload_ext memory_profiler \n",
    "\n",
    "# profile the function\n",
    "%memit calc_pure_python(draw_output=False, desired_width=1000, max_iterations=300)"
   ]
  }
 ],
 "metadata": {
  "kernelspec": {
   "display_name": ".venv",
   "language": "python",
   "name": "python3"
  },
  "language_info": {
   "codemirror_mode": {
    "name": "ipython",
    "version": 3
   },
   "file_extension": ".py",
   "mimetype": "text/x-python",
   "name": "python",
   "nbconvert_exporter": "python",
   "pygments_lexer": "ipython3",
   "version": "3.11.8"
  }
 },
 "nbformat": 4,
 "nbformat_minor": 2
}
