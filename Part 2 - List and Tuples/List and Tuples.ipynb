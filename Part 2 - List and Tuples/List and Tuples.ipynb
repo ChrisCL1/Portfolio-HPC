{
 "cells": [
  {
   "cell_type": "markdown",
   "metadata": {},
   "source": [
    "### 8.\n",
    "In some cases, it is necessary to efficiently perform insertion or removal of elements \n",
    "both at the beginning and at the end of the collection. Measure the time for the \n",
    "following operations with N = 10 000, 20 000 y 30 000 elements: \n",
    "a. Delete last element of a list via pop() \n",
    "b. Delete first element of a list via pop(0) \n",
    "c. Append 1 at the end of the list. \n",
    "d. Insert 1 at the beginning of the list insert(0, 1) \n",
    "Make a table with your results. It should looks like table on Chapter 2: Pure Python \n",
    "Optimization (pp. 38) from the book G. Lenaro (2017). Python high Performance. \n",
    "Second Edition. UK: Packt Publishing Ltd. "
   ]
  },
  {
   "cell_type": "code",
   "execution_count": 1,
   "metadata": {},
   "outputs": [],
   "source": [
    "import pandas as pd\n",
    "import timeit"
   ]
  },
  {
   "cell_type": "code",
   "execution_count": 2,
   "metadata": {},
   "outputs": [
    {
     "data": {
      "text/html": [
       "<div>\n",
       "<style scoped>\n",
       "    .dataframe tbody tr th:only-of-type {\n",
       "        vertical-align: middle;\n",
       "    }\n",
       "\n",
       "    .dataframe tbody tr th {\n",
       "        vertical-align: top;\n",
       "    }\n",
       "\n",
       "    .dataframe thead th {\n",
       "        text-align: right;\n",
       "    }\n",
       "</style>\n",
       "<table border=\"1\" class=\"dataframe\">\n",
       "  <thead>\n",
       "    <tr style=\"text-align: right;\">\n",
       "      <th></th>\n",
       "      <th>10000</th>\n",
       "      <th>20000</th>\n",
       "      <th>30000</th>\n",
       "    </tr>\n",
       "  </thead>\n",
       "  <tbody>\n",
       "    <tr>\n",
       "      <th>list.pop()</th>\n",
       "      <td>2.314700e-14</td>\n",
       "      <td>2.319500e-14</td>\n",
       "      <td>2.311400e-14</td>\n",
       "    </tr>\n",
       "    <tr>\n",
       "      <th>list.pop(0)</th>\n",
       "      <td>1.251086e-12</td>\n",
       "      <td>2.552214e-12</td>\n",
       "      <td>4.559416e-12</td>\n",
       "    </tr>\n",
       "    <tr>\n",
       "      <th>list.append(1)</th>\n",
       "      <td>1.718000e-14</td>\n",
       "      <td>2.631100e-14</td>\n",
       "      <td>2.068700e-14</td>\n",
       "    </tr>\n",
       "    <tr>\n",
       "      <th>list.insert(0, 1)</th>\n",
       "      <td>2.778298e-12</td>\n",
       "      <td>4.277503e-12</td>\n",
       "      <td>7.327114e-12</td>\n",
       "    </tr>\n",
       "  </tbody>\n",
       "</table>\n",
       "</div>"
      ],
      "text/plain": [
       "                          10000         20000         30000\n",
       "list.pop()         2.314700e-14  2.319500e-14  2.311400e-14\n",
       "list.pop(0)        1.251086e-12  2.552214e-12  4.559416e-12\n",
       "list.append(1)     1.718000e-14  2.631100e-14  2.068700e-14\n",
       "list.insert(0, 1)  2.778298e-12  4.277503e-12  7.327114e-12"
      ]
     },
     "execution_count": 2,
     "metadata": {},
     "output_type": "execute_result"
    }
   ],
   "source": [
    "size = [10_000, 20_000, 30_000]\n",
    "operations = {\n",
    "    \"list.pop()\" : 'lst.pop()',\n",
    "    \"list.pop(0)\" : 'lst.pop(0)',\n",
    "    \"list.append(1)\" : 'lst.append(1)',\n",
    "    \"list.insert(0, 1)\" : 'lst.insert(0, 1)',\n",
    "}\n",
    "\n",
    "results = {op: [] for op in operations}\n",
    "\n",
    "for _ in size:\n",
    "    for operation, function in operations.items():\n",
    "        lst_code = f\"lst = list(range({_}))\"\n",
    "        time = timeit.timeit(stmt=function, setup=lst_code, number=1000)\n",
    "        time /= 1000 * 1e6  \n",
    "\n",
    "        results[operation].append(time)\n",
    "\n",
    "\n",
    "df = pd.DataFrame(results, index=[n for n in size])\n",
    "\n",
    "df_transposed = df.transpose()\n",
    "\n",
    "df_transposed.head()"
   ]
  },
  {
   "cell_type": "markdown",
   "metadata": {},
   "source": [
    "### 9.\n",
    "Python provides a data structure with interesting properties in the collection.deque \n",
    "class. The word deque stands for double-ended queue because this data structure \n",
    "is designed to efficiently put and remove elements at the beginning and at the end \n",
    "of the collection. Evaluate the following methods with N = 10 000, 20 000 and 30 \n",
    "000 elements: \n",
    "a. deque.pop() \n",
    "b. deque.popleft() \n",
    "c. deque.append(1) \n",
    "d. deque.appendleft(1) \n",
    "Make a table with your results. It should looks like table on pp. 39 on the same book \n",
    "as previous task.  "
   ]
  },
  {
   "cell_type": "code",
   "execution_count": 3,
   "metadata": {},
   "outputs": [
    {
     "data": {
      "text/html": [
       "<div>\n",
       "<style scoped>\n",
       "    .dataframe tbody tr th:only-of-type {\n",
       "        vertical-align: middle;\n",
       "    }\n",
       "\n",
       "    .dataframe tbody tr th {\n",
       "        vertical-align: top;\n",
       "    }\n",
       "\n",
       "    .dataframe thead th {\n",
       "        text-align: right;\n",
       "    }\n",
       "</style>\n",
       "<table border=\"1\" class=\"dataframe\">\n",
       "  <thead>\n",
       "    <tr style=\"text-align: right;\">\n",
       "      <th></th>\n",
       "      <th>10000</th>\n",
       "      <th>20000</th>\n",
       "      <th>30000</th>\n",
       "    </tr>\n",
       "  </thead>\n",
       "  <tbody>\n",
       "    <tr>\n",
       "      <th>deque.pop()</th>\n",
       "      <td>0.022583</td>\n",
       "      <td>0.021570</td>\n",
       "      <td>0.022064</td>\n",
       "    </tr>\n",
       "    <tr>\n",
       "      <th>deque.popleft</th>\n",
       "      <td>0.027129</td>\n",
       "      <td>0.020038</td>\n",
       "      <td>0.020417</td>\n",
       "    </tr>\n",
       "    <tr>\n",
       "      <th>deque.append(1)</th>\n",
       "      <td>0.020093</td>\n",
       "      <td>0.019832</td>\n",
       "      <td>0.039632</td>\n",
       "    </tr>\n",
       "    <tr>\n",
       "      <th>deque.appendleft(1)</th>\n",
       "      <td>0.021218</td>\n",
       "      <td>0.021368</td>\n",
       "      <td>0.029661</td>\n",
       "    </tr>\n",
       "  </tbody>\n",
       "</table>\n",
       "</div>"
      ],
      "text/plain": [
       "                        10000     20000     30000\n",
       "deque.pop()          0.022583  0.021570  0.022064\n",
       "deque.popleft        0.027129  0.020038  0.020417\n",
       "deque.append(1)      0.020093  0.019832  0.039632\n",
       "deque.appendleft(1)  0.021218  0.021368  0.029661"
      ]
     },
     "execution_count": 3,
     "metadata": {},
     "output_type": "execute_result"
    }
   ],
   "source": [
    "operations = {\n",
    "    'deque.pop()': 'dq.pop()',\n",
    "    'deque.popleft': 'dq.popleft()',\n",
    "    'deque.append(1)': 'dq.append(1)',\n",
    "    'deque.appendleft(1)': 'dq.appendleft(1)'\n",
    "}\n",
    "\n",
    "results = {op: [] for op in operations}\n",
    "\n",
    "for n in size:\n",
    "    for operation, function in operations.items():\n",
    "        dqncode = f\"from collections import deque\\n\" \\\n",
    "                   f\"dq = deque(range({n}))\"\n",
    "        time = timeit.timeit(stmt=function, setup=dqncode, number=1000) / 1000 * 1e6\n",
    "        results[operation].append(time)\n",
    "\n",
    "df = pd.DataFrame(results, index=[n for n in size])\n",
    "\n",
    "df_transposed = df.transpose()\n",
    "\n",
    "df_transposed"
   ]
  },
  {
   "cell_type": "markdown",
   "metadata": {},
   "source": [
    "### 10.\n",
    " The efficiency gained by the appendleft and popleft comes at a cost: accesing an \n",
    "element in the middle of a deque is a O(N) operation. Evaluate the time for the next \n",
    "operations with with N = 10 000, 20 000 and 30 000 elements: \n",
    "a. deque[0] \n",
    "b. deque[N-1] \n",
    "c. deque[int(N/2)] \n",
    "Make a table with your results. It should looks like table on pp. 39 on the same book \n",
    "as previous task."
   ]
  },
  {
   "cell_type": "code",
   "execution_count": 4,
   "metadata": {},
   "outputs": [
    {
     "data": {
      "text/html": [
       "<div>\n",
       "<style scoped>\n",
       "    .dataframe tbody tr th:only-of-type {\n",
       "        vertical-align: middle;\n",
       "    }\n",
       "\n",
       "    .dataframe tbody tr th {\n",
       "        vertical-align: top;\n",
       "    }\n",
       "\n",
       "    .dataframe thead th {\n",
       "        text-align: right;\n",
       "    }\n",
       "</style>\n",
       "<table border=\"1\" class=\"dataframe\">\n",
       "  <thead>\n",
       "    <tr style=\"text-align: right;\">\n",
       "      <th></th>\n",
       "      <th>10000</th>\n",
       "      <th>20000</th>\n",
       "      <th>30000</th>\n",
       "    </tr>\n",
       "  </thead>\n",
       "  <tbody>\n",
       "    <tr>\n",
       "      <th>deque[0]</th>\n",
       "      <td>0.019881</td>\n",
       "      <td>0.018918</td>\n",
       "      <td>0.018593</td>\n",
       "    </tr>\n",
       "    <tr>\n",
       "      <th>deque[N-1]</th>\n",
       "      <td>0.029371</td>\n",
       "      <td>0.039377</td>\n",
       "      <td>0.028649</td>\n",
       "    </tr>\n",
       "    <tr>\n",
       "      <th>deque[int(N/2)]</th>\n",
       "      <td>0.161288</td>\n",
       "      <td>0.242126</td>\n",
       "      <td>0.439874</td>\n",
       "    </tr>\n",
       "  </tbody>\n",
       "</table>\n",
       "</div>"
      ],
      "text/plain": [
       "                    10000     20000     30000\n",
       "deque[0]         0.019881  0.018918  0.018593\n",
       "deque[N-1]       0.029371  0.039377  0.028649\n",
       "deque[int(N/2)]  0.161288  0.242126  0.439874"
      ]
     },
     "execution_count": 4,
     "metadata": {},
     "output_type": "execute_result"
    }
   ],
   "source": [
    "operations = {\n",
    "    'deque[0]': 'dq[0]',\n",
    "    'deque[N-1]': 'dq[N-1]',\n",
    "    'deque[int(N/2)]': 'dq[int(N/2)]',\n",
    "}\n",
    "results = {op: [] for op in operations}\n",
    "\n",
    "for n in size:\n",
    "    for op, stmt in operations.items():\n",
    "        dq_code = f'from collections import deque; N = {n}; dq = deque(range(N))'\n",
    "        time = timeit.timeit(stmt=stmt, setup=dq_code, number=1000) / 1000 * 1e6\n",
    "        results[op].append(time)\n",
    "\n",
    "df_results = pd.DataFrame(results, index=[n  for n in size])\n",
    "\n",
    "df_transposed = df_results.T\n",
    "\n",
    "df_transposed"
   ]
  },
  {
   "cell_type": "markdown",
   "metadata": {},
   "source": [
    "### 11.\n",
    "Explain what is Overallocation in lists.  "
   ]
  },
  {
   "cell_type": "markdown",
   "metadata": {},
   "source": [
    "\n",
    "Overallocation in Python lists refers to the strategy where Python pre-allocates more memory than is currently needed for a list's elements. This is done to optimize append operations by minimizing the number of times the list needs to reallocate memory as it grows.\n",
    "\n",
    "When you append to a list in Python, it doesn't necessarily allocate space for just one additional element. Instead, it allocates room for a number of elements in advance. The exact algorithm for this growth strategy is an implementation detail and may vary, but the idea is to balance memory usage with the need for speed of append operations.\n",
    "\n",
    "Looking at the list operations you provided, list.append(1) has consistently low times regardless of the list size. This demonstrates overallocation at work: most of the time, appending doesn't require a memory reallocation because there's already space reserved for new elements.\n",
    "\n",
    "In contrast, operations like list.insert(0, 1) show a linear increase in time as the list size grows, because inserting at the beginning of a list forces all the subsequent elements to move one space in memory, which is costly. This operation does not benefit from overallocation because it doesn’t involve simply adding an element at the end but rather reorganizing the existing ones.\n",
    "\n",
    "The overallocation mechanism makes appending to lists in Python a very efficient operation (O(1) amortized time complexity), which is why appending to lists can be done quickly even as the list grows in size. However, this also means that a list might use more memory than the exact number of elements it contains at any given time."
   ]
  }
 ],
 "metadata": {
  "kernelspec": {
   "display_name": ".venv",
   "language": "python",
   "name": "python3"
  },
  "language_info": {
   "codemirror_mode": {
    "name": "ipython",
    "version": 3
   },
   "file_extension": ".py",
   "mimetype": "text/x-python",
   "name": "python",
   "nbconvert_exporter": "python",
   "pygments_lexer": "ipython3",
   "version": "3.11.8"
  }
 },
 "nbformat": 4,
 "nbformat_minor": 2
}
