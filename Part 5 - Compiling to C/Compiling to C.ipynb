{
 "cells": [
  {
   "cell_type": "markdown",
   "metadata": {},
   "source": [
    "### 16.\n",
    "Read about the Conway’s Game of Life. Implement all solutions provided on the\n",
    "Cython Material (slides) to obtain the update of the lattice:\n",
    "a. Python\n",
    "b. Cython 1\n",
    "c. Cython 2\n",
    "d. Cython 3\n",
    "e. Cython 4\n",
    "Explain the improvement on each solution. Reproduce the chart on pp. 33 with the\n",
    "runtime for each solution."
   ]
  },
  {
   "cell_type": "code",
   "execution_count": 2,
   "metadata": {},
   "outputs": [
    {
     "name": "stdout",
     "output_type": "stream",
     "text": [
      "40 ms ± 1.38 ms per loop (mean ± std. dev. of 7 runs, 10 loops each)\n",
      "17.9 ms ± 194 µs per loop (mean ± std. dev. of 7 runs, 100 loops each)\n",
      "10.2 ms ± 63.8 µs per loop (mean ± std. dev. of 7 runs, 100 loops each)\n",
      "9.24 ms ± 74.8 µs per loop (mean ± std. dev. of 7 runs, 100 loops each)\n",
      "8.27 ms ± 35.1 µs per loop (mean ± std. dev. of 7 runs, 100 loops each)\n"
     ]
    }
   ],
   "source": [
    "import time \n",
    "import numpy as np\n",
    "import matplotlib.pyplot as plt\n",
    "import timeit\n",
    "import cython1\n",
    "import cython2\n",
    "import cython3\n",
    "import cython4\n",
    "import main\n",
    "\n",
    "def initialize_lattice_with_cross(box_size):\n",
    "    lattice = [[0 for _ in range(box_size)] for _ in range(box_size)]\n",
    "\n",
    "    # Define the cross in the center\n",
    "    center = box_size // 2\n",
    "    for i in range(box_size):\n",
    "        # Set middle column cells to 1\n",
    "        lattice[i][center] = 1\n",
    "        # Set middle row cells to 1\n",
    "        lattice[center][i] = 1\n",
    "\n",
    "    return lattice\n",
    "\n",
    "box_size = 300\n",
    "lattice = initialize_lattice_with_cross(box_size)\n",
    "%timeit main.update(lattice)\n",
    "%timeit cython1.update(lattice)\n",
    "%timeit cython2.update(lattice)\n",
    "%timeit cython3.update(lattice)\n",
    "%timeit cython4.update(lattice)"
   ]
  }
 ],
 "metadata": {
  "kernelspec": {
   "display_name": "HPC",
   "language": "python",
   "name": "python3"
  },
  "language_info": {
   "codemirror_mode": {
    "name": "ipython",
    "version": 3
   },
   "file_extension": ".py",
   "mimetype": "text/x-python",
   "name": "python",
   "nbconvert_exporter": "python",
   "pygments_lexer": "ipython3",
   "version": "3.10.12"
  }
 },
 "nbformat": 4,
 "nbformat_minor": 2
}
